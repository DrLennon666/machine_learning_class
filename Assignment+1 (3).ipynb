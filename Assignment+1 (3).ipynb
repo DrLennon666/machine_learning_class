{
 "cells": [
  {
   "cell_type": "markdown",
   "metadata": {},
   "source": [
    "---\n",
    "\n",
    "_You are currently looking at **version 1.1** of this notebook. To download notebooks and datafiles, as well as get help on Jupyter notebooks in the Coursera platform, visit the [Jupyter Notebook FAQ](https://www.coursera.org/learn/python-social-network-analysis/resources/yPcBs) course resource._\n",
    "\n",
    "---"
   ]
  },
  {
   "cell_type": "markdown",
   "metadata": {},
   "source": [
    "# Assignment 1 - Creating and Manipulating Graphs\n",
    "\n",
    "Eight employees at a small company were asked to choose 3 movies that they would most enjoy watching for the upcoming company movie night. These choices are stored in the file `Employee_Movie_Choices.txt`.\n",
    "\n",
    "A second file, `Employee_Relationships.txt`, has data on the relationships between different coworkers. \n",
    "\n",
    "The relationship score has value of `-100` (Enemies) to `+100` (Best Friends). A value of zero means the two employees haven't interacted or are indifferent.\n",
    "\n",
    "Both files are tab delimited."
   ]
  },
  {
   "cell_type": "code",
   "execution_count": 1,
   "metadata": {
    "collapsed": true
   },
   "outputs": [],
   "source": [
    "import networkx as nx\n",
    "import pandas as pd\n",
    "import numpy as np\n",
    "from networkx.algorithms import bipartite\n",
    "\n",
    "\n",
    "# This is the set of employees\n",
    "employees = set(['Pablo',\n",
    "                 'Lee',\n",
    "                 'Georgia',\n",
    "                 'Vincent',\n",
    "                 'Andy',\n",
    "                 'Frida',\n",
    "                 'Joan',\n",
    "                 'Claude'])\n",
    "\n",
    "# This is the set of movies\n",
    "movies = set(['The Shawshank Redemption',\n",
    "              'Forrest Gump',\n",
    "              'The Matrix',\n",
    "              'Anaconda',\n",
    "              'The Social Network',\n",
    "              'The Godfather',\n",
    "              'Monty Python and the Holy Grail',\n",
    "              'Snakes on a Plane',\n",
    "              'Kung Fu Panda',\n",
    "              'The Dark Knight',\n",
    "              'Mean Girls'])\n",
    "\n",
    "\n",
    "# you can use the following function to plot graphs\n",
    "# make sure to comment it out before submitting to the autograder\n",
    "def plot_graph(G, weight_name=None):\n",
    "    '''\n",
    "    G: a networkx G\n",
    "    weight_name: name of the attribute for plotting edge weights (if G is weighted)\n",
    "    '''\n",
    "    %matplotlib notebook\n",
    "    import matplotlib.pyplot as plt\n",
    "    \n",
    "    plt.figure()\n",
    "    pos = nx.spring_layout(G)\n",
    "    edges = G.edges()\n",
    "    weights = None\n",
    "    \n",
    "    if weight_name:\n",
    "        weights = [int(G[u][v][weight_name]) for u,v in edges]\n",
    "        labels = nx.get_edge_attributes(G,weight_name)\n",
    "        nx.draw_networkx_edge_labels(G,pos,edge_labels=labels)\n",
    "        nx.draw_networkx(G, pos, edges=edges, width=weights);\n",
    "    else:\n",
    "        nx.draw_networkx(G, pos, edges=edges);"
   ]
  },
  {
   "cell_type": "markdown",
   "metadata": {},
   "source": [
    "### Question 1\n",
    "\n",
    "Using NetworkX, load in the bipartite graph from `Employee_Movie_Choices.txt` and return that graph.\n",
    "\n",
    "*This function should return a networkx graph with 19 nodes and 24 edges*"
   ]
  },
  {
   "cell_type": "code",
   "execution_count": 2,
   "metadata": {
    "collapsed": true
   },
   "outputs": [],
   "source": [
    "#emp_mov_df = pd.read_table('Employee_Movie_Choices.txt')\n",
    "#emp_mov_df.columns = ['Employee', 'Movie']\n",
    "#emp_mov_df.head()\n",
    "\n",
    "#pair = []\n",
    "\n",
    "#for i in emp_mov_df.index:\n",
    "#    pair.append((emp_mov_df.Employee.loc[i], emp_mov_df.Movie.loc[i]))\n",
    "\n",
    "#emp_mov_df['pairs'] = pair\n",
    "\n",
    "#B = nx.Graph()\n",
    "#B.add_edges_from(emp_mov_df.pairs)"
   ]
  },
  {
   "cell_type": "code",
   "execution_count": 3,
   "metadata": {},
   "outputs": [],
   "source": [
    "def answer_one():\n",
    "        \n",
    "    emp_mov_df = pd.read_table('Employee_Movie_Choices.txt')\n",
    "    emp_mov_df.columns = ['Employee', 'Movie']\n",
    "    emp_mov_df.head()\n",
    "\n",
    "    pair = []\n",
    "\n",
    "    for i in emp_mov_df.index:\n",
    "        pair.append((emp_mov_df.Employee.loc[i], emp_mov_df.Movie.loc[i]))\n",
    "\n",
    "    emp_mov_df['pairs'] = pair\n",
    "\n",
    "    B = nx.Graph()\n",
    "    B.add_edges_from(emp_mov_df.pairs)    \n",
    "    return B\n",
    "\n",
    "#print(bipartite.is_bipartite(answer_one()))"
   ]
  },
  {
   "cell_type": "markdown",
   "metadata": {},
   "source": [
    "### Question 2\n",
    "\n",
    "Using the graph from the previous question, add nodes attributes named `'type'` where movies have the value `'movie'` and employees have the value `'employee'` and return that graph.\n",
    "\n",
    "*This function should return a networkx graph with node attributes `{'type': 'movie'}` or `{'type': 'employee'}`*"
   ]
  },
  {
   "cell_type": "code",
   "execution_count": 4,
   "metadata": {
    "collapsed": true
   },
   "outputs": [],
   "source": [
    "#for i in employees:\n",
    "#    B.node[i]['type'] = 'employee'\n",
    "#for j in movies:\n",
    "#    B.node[j]['type'] = 'movie'"
   ]
  },
  {
   "cell_type": "code",
   "execution_count": 5,
   "metadata": {
    "collapsed": true
   },
   "outputs": [],
   "source": [
    "#B.nodes(data=True)"
   ]
  },
  {
   "cell_type": "code",
   "execution_count": 6,
   "metadata": {},
   "outputs": [],
   "source": [
    "def answer_two():\n",
    "    \n",
    "    B = answer_one()\n",
    "    \n",
    "    for i in employees:\n",
    "        B.node[i]['type'] = 'employee'\n",
    "    for j in movies:\n",
    "        B.node[j]['type'] = 'movie'    \n",
    "    return B\n",
    "\n",
    "#answer_two().nodes(data=True)"
   ]
  },
  {
   "cell_type": "markdown",
   "metadata": {
    "collapsed": true
   },
   "source": [
    "### Question 3\n",
    "\n",
    "Find a weighted projection of the graph from `answer_two` which tells us how many movies different pairs of employees have in common.\n",
    "\n",
    "*This function should return a weighted projected graph.*"
   ]
  },
  {
   "cell_type": "code",
   "execution_count": 7,
   "metadata": {
    "collapsed": true
   },
   "outputs": [],
   "source": [
    "#G = bipartite.weighted_projected_graph(answer_two(), movies)\n",
    "#G.edges(data=True)"
   ]
  },
  {
   "cell_type": "code",
   "execution_count": 8,
   "metadata": {},
   "outputs": [],
   "source": [
    "def answer_three():\n",
    "        \n",
    "    # Your Code Here\n",
    "    G = bipartite.weighted_projected_graph(answer_two(), employees)\n",
    "\n",
    "    return G\n",
    "\n",
    "#plot_graph(answer_three())"
   ]
  },
  {
   "cell_type": "markdown",
   "metadata": {
    "collapsed": true
   },
   "source": [
    "### Question 4\n",
    "\n",
    "Suppose you'd like to find out if people that have a high relationship score also like the same types of movies.\n",
    "\n",
    "Find the Pearson correlation ( using `DataFrame.corr()` ) between employee relationship scores and the number of movies they have in common. If two employees have no movies in common it should be treated as a 0, not a missing value, and should be included in the correlation calculation.\n",
    "\n",
    "*This function should return a float.*"
   ]
  },
  {
   "cell_type": "code",
   "execution_count": 53,
   "metadata": {},
   "outputs": [],
   "source": [
    "#mp_rel = pd.read_table('Employee_Relationships.txt', header=None)\n",
    "#mp_rel.columns = ['emp1', 'emp2', 'score']\n",
    "#mp_rel.head(9)\n",
    "#_2 = bipartite.weighted_projected_graph(answer_two(), employees)\n",
    "#_2.edges(data=True)\n",
    "\n",
    "#roj_pairs = []\n",
    "#roj_common = []\n",
    "\n",
    "#or i in range(len(G_2.edges())):\n",
    "#   proj_pairs.append(G_2.edges()[i])\n",
    "#   proj_common.append(G_2.edges(data=True)[i][2]['weight'])\n",
    "#ovies_in_common = pd.DataFrame()\n",
    "#ovies_in_common['pairs'] = proj_pairs\n",
    "#ovies_in_common['in_common'] = proj_common\n",
    "\n",
    "#orrect_pairs = []\n",
    "#or i in range(len(movies_in_common.pairs)):\n",
    "#   correct_pairs.append((tuple(((sorted(movies_in_common.pairs[i]))))))\n",
    "\n",
    "#ovies_in_common['pairs'] = correct_pairs\n",
    "#movies_in_common.sort_values(by='pairs', inplace=True)\n",
    "\n",
    "#air = []\n",
    "\n",
    "#or i in emp_rel.index:\n",
    "#   pair.append((emp_rel.emp1.loc[i], emp_rel.emp2.loc[i]))\n",
    "\n",
    "#p_rel['pairs'] = pair\n",
    "\n",
    "#inal_df = pd.merge(movies_in_common, emp_rel, on='pairs', how='right').fillna(0)\n",
    "\n",
    "#swer = final_df.corr()['score'][0]\n",
    "\n",
    "#ffrint(answer)\n"
   ]
  },
  {
   "cell_type": "code",
   "execution_count": 52,
   "metadata": {},
   "outputs": [
    {
     "data": {
      "text/plain": [
       "0.78839622217334704"
      ]
     },
     "execution_count": 52,
     "metadata": {},
     "output_type": "execute_result"
    }
   ],
   "source": [
    "def answer_four():\n",
    "        \n",
    "    emp_rel = pd.read_table('Employee_Relationships.txt', header=None)\n",
    "    emp_rel.columns = ['emp1', 'emp2', 'score']\n",
    "    emp_rel.head(9)\n",
    "    G_2 = bipartite.weighted_projected_graph(answer_two(), employees)\n",
    "    G_2.edges(data=True)\n",
    "\n",
    "    proj_pairs = []\n",
    "    proj_common = []\n",
    "\n",
    "    for i in range(len(G_2.edges())):\n",
    "        proj_pairs.append(G_2.edges()[i])\n",
    "        proj_common.append(G_2.edges(data=True)[i][2]['weight'])\n",
    "    movies_in_common = pd.DataFrame()\n",
    "    movies_in_common['pairs'] = proj_pairs\n",
    "    movies_in_common['in_common'] = proj_common\n",
    "\n",
    "    correct_pairs = []\n",
    "    for i in range(len(movies_in_common.pairs)):\n",
    "        correct_pairs.append((tuple(((sorted(movies_in_common.pairs[i]))))))\n",
    "\n",
    "    movies_in_common['pairs'] = correct_pairs\n",
    "    #movies_in_common.sort_values(by='pairs', inplace=True)\n",
    "\n",
    "    pair = []\n",
    "\n",
    "    for i in emp_rel.index:\n",
    "        pair.append((emp_rel.emp1.loc[i], emp_rel.emp2.loc[i]))\n",
    "\n",
    "    emp_rel['pairs'] = pair\n",
    "\n",
    "    final_df = pd.merge(movies_in_common, emp_rel, on='pairs', how='right').fillna(0)\n",
    "\n",
    "    answer = final_df.corr()['score'][0]\n",
    "\n",
    "    \n",
    "    return answer\n",
    "#answer_four()"
   ]
  }
 ],
 "metadata": {
  "coursera": {
   "course_slug": "python-social-network-analysis",
   "graded_item_id": "YNa9b",
   "launcher_item_id": "hvNc1",
   "part_id": "VbyiB"
  },
  "kernelspec": {
   "display_name": "Python 3",
   "language": "python",
   "name": "python3"
  },
  "language_info": {
   "codemirror_mode": {
    "name": "ipython",
    "version": 3
   },
   "file_extension": ".py",
   "mimetype": "text/x-python",
   "name": "python",
   "nbconvert_exporter": "python",
   "pygments_lexer": "ipython3",
   "version": "3.6.0"
  }
 },
 "nbformat": 4,
 "nbformat_minor": 2
}
